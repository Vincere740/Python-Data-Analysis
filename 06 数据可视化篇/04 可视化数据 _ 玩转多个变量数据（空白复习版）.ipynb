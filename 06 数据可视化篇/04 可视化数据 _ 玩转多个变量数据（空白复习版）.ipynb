{
 "cells": [
  {
   "cell_type": "code",
   "execution_count": 1,
   "id": "10eb6c20-13e6-4314-807d-79af20eddf35",
   "metadata": {},
   "outputs": [],
   "source": [
    "import numpy as np\n",
    "import pandas as pd\n",
    "import matplotlib.pyplot as plt\n",
    "import seaborn as sns"
   ]
  },
  {
   "cell_type": "markdown",
   "id": "1e51b528-8fdb-4984-9ad9-4a0fd90ca5d7",
   "metadata": {},
   "source": [
    "## 给散点图增加变量"
   ]
  },
  {
   "cell_type": "code",
   "execution_count": 2,
   "id": "a8a99f82-2447-4078-8fce-74f55599224f",
   "metadata": {},
   "outputs": [
    {
     "data": {
      "text/html": [
       "<div>\n",
       "<style scoped>\n",
       "    .dataframe tbody tr th:only-of-type {\n",
       "        vertical-align: middle;\n",
       "    }\n",
       "\n",
       "    .dataframe tbody tr th {\n",
       "        vertical-align: top;\n",
       "    }\n",
       "\n",
       "    .dataframe thead th {\n",
       "        text-align: right;\n",
       "    }\n",
       "</style>\n",
       "<table border=\"1\" class=\"dataframe\">\n",
       "  <thead>\n",
       "    <tr style=\"text-align: right;\">\n",
       "      <th></th>\n",
       "      <th>sepal_length</th>\n",
       "      <th>sepal_width</th>\n",
       "      <th>petal_length</th>\n",
       "      <th>petal_width</th>\n",
       "      <th>species</th>\n",
       "    </tr>\n",
       "  </thead>\n",
       "  <tbody>\n",
       "    <tr>\n",
       "      <th>0</th>\n",
       "      <td>5.1</td>\n",
       "      <td>3.5</td>\n",
       "      <td>1.4</td>\n",
       "      <td>0.2</td>\n",
       "      <td>setosa</td>\n",
       "    </tr>\n",
       "    <tr>\n",
       "      <th>1</th>\n",
       "      <td>4.9</td>\n",
       "      <td>3.0</td>\n",
       "      <td>1.4</td>\n",
       "      <td>0.2</td>\n",
       "      <td>setosa</td>\n",
       "    </tr>\n",
       "    <tr>\n",
       "      <th>2</th>\n",
       "      <td>4.7</td>\n",
       "      <td>3.2</td>\n",
       "      <td>1.3</td>\n",
       "      <td>0.2</td>\n",
       "      <td>setosa</td>\n",
       "    </tr>\n",
       "    <tr>\n",
       "      <th>3</th>\n",
       "      <td>4.6</td>\n",
       "      <td>3.1</td>\n",
       "      <td>1.5</td>\n",
       "      <td>0.2</td>\n",
       "      <td>setosa</td>\n",
       "    </tr>\n",
       "    <tr>\n",
       "      <th>4</th>\n",
       "      <td>5.0</td>\n",
       "      <td>3.6</td>\n",
       "      <td>1.4</td>\n",
       "      <td>0.2</td>\n",
       "      <td>setosa</td>\n",
       "    </tr>\n",
       "    <tr>\n",
       "      <th>...</th>\n",
       "      <td>...</td>\n",
       "      <td>...</td>\n",
       "      <td>...</td>\n",
       "      <td>...</td>\n",
       "      <td>...</td>\n",
       "    </tr>\n",
       "    <tr>\n",
       "      <th>145</th>\n",
       "      <td>6.7</td>\n",
       "      <td>3.0</td>\n",
       "      <td>5.2</td>\n",
       "      <td>2.3</td>\n",
       "      <td>virginica</td>\n",
       "    </tr>\n",
       "    <tr>\n",
       "      <th>146</th>\n",
       "      <td>6.3</td>\n",
       "      <td>2.5</td>\n",
       "      <td>5.0</td>\n",
       "      <td>1.9</td>\n",
       "      <td>virginica</td>\n",
       "    </tr>\n",
       "    <tr>\n",
       "      <th>147</th>\n",
       "      <td>6.5</td>\n",
       "      <td>3.0</td>\n",
       "      <td>5.2</td>\n",
       "      <td>2.0</td>\n",
       "      <td>virginica</td>\n",
       "    </tr>\n",
       "    <tr>\n",
       "      <th>148</th>\n",
       "      <td>6.2</td>\n",
       "      <td>3.4</td>\n",
       "      <td>5.4</td>\n",
       "      <td>2.3</td>\n",
       "      <td>virginica</td>\n",
       "    </tr>\n",
       "    <tr>\n",
       "      <th>149</th>\n",
       "      <td>5.9</td>\n",
       "      <td>3.0</td>\n",
       "      <td>5.1</td>\n",
       "      <td>1.8</td>\n",
       "      <td>virginica</td>\n",
       "    </tr>\n",
       "  </tbody>\n",
       "</table>\n",
       "<p>150 rows × 5 columns</p>\n",
       "</div>"
      ],
      "text/plain": [
       "     sepal_length  sepal_width  petal_length  petal_width    species\n",
       "0             5.1          3.5           1.4          0.2     setosa\n",
       "1             4.9          3.0           1.4          0.2     setosa\n",
       "2             4.7          3.2           1.3          0.2     setosa\n",
       "3             4.6          3.1           1.5          0.2     setosa\n",
       "4             5.0          3.6           1.4          0.2     setosa\n",
       "..            ...          ...           ...          ...        ...\n",
       "145           6.7          3.0           5.2          2.3  virginica\n",
       "146           6.3          2.5           5.0          1.9  virginica\n",
       "147           6.5          3.0           5.2          2.0  virginica\n",
       "148           6.2          3.4           5.4          2.3  virginica\n",
       "149           5.9          3.0           5.1          1.8  virginica\n",
       "\n",
       "[150 rows x 5 columns]"
      ]
     },
     "execution_count": 2,
     "metadata": {},
     "output_type": "execute_result"
    }
   ],
   "source": [
    "# 导入本节示例数据，注意此文件并非本地数据文件，而是从Seaborn库里导入的\n",
    "# Seaborn库里的所有数据可以在这里查看：https://github.com/mwaskom/seaborn-data\n",
    "# 如果遇到导入问题，可以从以上GitHub仓库下载到本地，然后读取文件\n",
    "# 或者是参考https://blog.csdn.net/weixin_51755670/article/details/127979895\n",
    "iris = sns.load_dataset(\"iris\")\n",
    "iris"
   ]
  },
  {
   "cell_type": "code",
   "execution_count": 3,
   "id": "289e349d-c7e5-4adf-b414-39234198e486",
   "metadata": {},
   "outputs": [],
   "source": [
    "# 传入iris作为数据，以sepal_length为横轴数据，sepal_width为纵轴数据，绘制散点图\n",
    "\n"
   ]
  },
  {
   "cell_type": "code",
   "execution_count": 4,
   "id": "9fb6ce21-116f-4e75-a6ce-f77f4a9bda80",
   "metadata": {},
   "outputs": [],
   "source": [
    "# 传入iris作为数据，以sepal_length为横轴数据，sepal_width为纵轴数据，点的颜色为绿色，绘制散点图\n",
    "\n"
   ]
  },
  {
   "cell_type": "code",
   "execution_count": 5,
   "id": "80564b3a-201a-4561-9b3a-7a9e5b04b438",
   "metadata": {},
   "outputs": [],
   "source": [
    "# 传入iris作为数据，以sepal_length为横轴数据，sepal_width为纵轴数据，点的颜色根据species分类，绘制散点图\n",
    "\n"
   ]
  },
  {
   "cell_type": "code",
   "execution_count": 6,
   "id": "bcf06f28-0b96-4c7c-a8da-fd2d3b0ff7ba",
   "metadata": {
    "scrolled": true
   },
   "outputs": [],
   "source": [
    "# 传入iris作为数据，以sepal_length为横轴数据，sepal_width为纵轴数据，点的颜色根据petal_length数值，绘制散点图\n",
    "\n"
   ]
  },
  {
   "cell_type": "code",
   "execution_count": 7,
   "id": "d882a440-9ac4-44e5-bbb9-a372a649109d",
   "metadata": {},
   "outputs": [],
   "source": [
    "# 传入iris作为数据，以sepal_length为横轴数据，sepal_width为纵轴数据，点的颜色根据species分类\n",
    "# 点的尺寸根据petal_length数值，绘制散点图\n",
    "\n"
   ]
  },
  {
   "cell_type": "code",
   "execution_count": 8,
   "id": "a55472bb-74e5-473a-93bf-316a44f4ef24",
   "metadata": {},
   "outputs": [
    {
     "data": {
      "image/png": "[encoded data removed]",
      "text/plain": [
       "<Figure size 640x480 with 1 Axes>"
      ]
     },
     "metadata": {},
     "output_type": "display_data"
    }
   ],
   "source": [
    "sns.scatterplot(iris, x=\"sepal_length\", y=\"sepal_width\", \n",
    "                hue=\"species\", size=\"petal_length\")\n",
    "# 添加一行代码，把图例放在左上方\n",
    "\n",
    "plt.show()"
   ]
  },
  {
   "cell_type": "code",
   "execution_count": 9,
   "id": "c0a7f598-69b7-4acc-b593-d21e762fb40d",
   "metadata": {},
   "outputs": [
    {
     "data": {
      "image/png": "[encoded data removed]",
      "text/plain": [
       "<Figure size 640x480 with 1 Axes>"
      ]
     },
     "metadata": {},
     "output_type": "display_data"
    }
   ],
   "source": [
    "sns.scatterplot(iris, x=\"sepal_length\", y=\"sepal_width\", \n",
    "                hue=\"species\", size=\"petal_length\")\n",
    "# 添加一行代码，把图例放在右下方\n",
    "\n",
    "plt.show()"
   ]
  },
  {
   "cell_type": "code",
   "execution_count": 10,
   "id": "caa746ec-d6e1-43a8-897f-5e52e4337b1e",
   "metadata": {},
   "outputs": [
    {
     "data": {
      "image/png": "[encoded data removed]",
      "text/plain": [
       "<Figure size 640x480 with 1 Axes>"
      ]
     },
     "metadata": {},
     "output_type": "display_data"
    }
   ],
   "source": [
    "sns.scatterplot(iris, x=\"sepal_length\", y=\"sepal_width\", \n",
    "                hue=\"species\", size=\"petal_length\")\n",
    "# 添加一行代码，把图例放在右上方\n",
    "\n",
    "plt.show()"
   ]
  },
  {
   "cell_type": "markdown",
   "id": "5dfc2b6a-5d7e-4821-8704-71d3fea8cdbc",
   "metadata": {},
   "source": [
    "## 给折线图增加变量"
   ]
  },
  {
   "cell_type": "code",
   "execution_count": 11,
   "id": "73be59e7-9ef6-4eff-9404-ab4d96b53c14",
   "metadata": {},
   "outputs": [
    {
     "data": {
      "text/html": [
       "<div>\n",
       "<style scoped>\n",
       "    .dataframe tbody tr th:only-of-type {\n",
       "        vertical-align: middle;\n",
       "    }\n",
       "\n",
       "    .dataframe tbody tr th {\n",
       "        vertical-align: top;\n",
       "    }\n",
       "\n",
       "    .dataframe thead th {\n",
       "        text-align: right;\n",
       "    }\n",
       "</style>\n",
       "<table border=\"1\" class=\"dataframe\">\n",
       "  <thead>\n",
       "    <tr style=\"text-align: right;\">\n",
       "      <th></th>\n",
       "      <th>year</th>\n",
       "      <th>month</th>\n",
       "      <th>passengers</th>\n",
       "    </tr>\n",
       "  </thead>\n",
       "  <tbody>\n",
       "    <tr>\n",
       "      <th>0</th>\n",
       "      <td>1949</td>\n",
       "      <td>Jan</td>\n",
       "      <td>112</td>\n",
       "    </tr>\n",
       "    <tr>\n",
       "      <th>1</th>\n",
       "      <td>1949</td>\n",
       "      <td>Feb</td>\n",
       "      <td>118</td>\n",
       "    </tr>\n",
       "    <tr>\n",
       "      <th>2</th>\n",
       "      <td>1949</td>\n",
       "      <td>Mar</td>\n",
       "      <td>132</td>\n",
       "    </tr>\n",
       "    <tr>\n",
       "      <th>3</th>\n",
       "      <td>1949</td>\n",
       "      <td>Apr</td>\n",
       "      <td>129</td>\n",
       "    </tr>\n",
       "    <tr>\n",
       "      <th>4</th>\n",
       "      <td>1949</td>\n",
       "      <td>May</td>\n",
       "      <td>121</td>\n",
       "    </tr>\n",
       "    <tr>\n",
       "      <th>...</th>\n",
       "      <td>...</td>\n",
       "      <td>...</td>\n",
       "      <td>...</td>\n",
       "    </tr>\n",
       "    <tr>\n",
       "      <th>139</th>\n",
       "      <td>1960</td>\n",
       "      <td>Aug</td>\n",
       "      <td>606</td>\n",
       "    </tr>\n",
       "    <tr>\n",
       "      <th>140</th>\n",
       "      <td>1960</td>\n",
       "      <td>Sep</td>\n",
       "      <td>508</td>\n",
       "    </tr>\n",
       "    <tr>\n",
       "      <th>141</th>\n",
       "      <td>1960</td>\n",
       "      <td>Oct</td>\n",
       "      <td>461</td>\n",
       "    </tr>\n",
       "    <tr>\n",
       "      <th>142</th>\n",
       "      <td>1960</td>\n",
       "      <td>Nov</td>\n",
       "      <td>390</td>\n",
       "    </tr>\n",
       "    <tr>\n",
       "      <th>143</th>\n",
       "      <td>1960</td>\n",
       "      <td>Dec</td>\n",
       "      <td>432</td>\n",
       "    </tr>\n",
       "  </tbody>\n",
       "</table>\n",
       "<p>144 rows × 3 columns</p>\n",
       "</div>"
      ],
      "text/plain": [
       "     year month  passengers\n",
       "0    1949   Jan         112\n",
       "1    1949   Feb         118\n",
       "2    1949   Mar         132\n",
       "3    1949   Apr         129\n",
       "4    1949   May         121\n",
       "..    ...   ...         ...\n",
       "139  1960   Aug         606\n",
       "140  1960   Sep         508\n",
       "141  1960   Oct         461\n",
       "142  1960   Nov         390\n",
       "143  1960   Dec         432\n",
       "\n",
       "[144 rows x 3 columns]"
      ]
     },
     "execution_count": 11,
     "metadata": {},
     "output_type": "execute_result"
    }
   ],
   "source": [
    "# 导入示例数据\n",
    "flights = sns.load_dataset(\"flights\")\n",
    "flights"
   ]
  },
  {
   "cell_type": "code",
   "execution_count": 12,
   "id": "6223ee75-f09d-4465-bc74-a94b8010a6a6",
   "metadata": {},
   "outputs": [],
   "source": [
    "# 传入flights作为数据，以month为横轴数据，passengers为纵轴数据，点的颜色根据year数值，绘制折线图\n",
    "# 图例放在右上方\n",
    "\n"
   ]
  },
  {
   "cell_type": "markdown",
   "id": "e07b46e7-91cb-48ce-9f0c-66a0b2f27992",
   "metadata": {},
   "source": [
    "## 给条形图增加变量"
   ]
  },
  {
   "cell_type": "code",
   "execution_count": 13,
   "id": "9da5b95f-892d-4fde-856c-c8fae86ff21c",
   "metadata": {},
   "outputs": [
    {
     "data": {
      "text/html": [
       "<div>\n",
       "<style scoped>\n",
       "    .dataframe tbody tr th:only-of-type {\n",
       "        vertical-align: middle;\n",
       "    }\n",
       "\n",
       "    .dataframe tbody tr th {\n",
       "        vertical-align: top;\n",
       "    }\n",
       "\n",
       "    .dataframe thead th {\n",
       "        text-align: right;\n",
       "    }\n",
       "</style>\n",
       "<table border=\"1\" class=\"dataframe\">\n",
       "  <thead>\n",
       "    <tr style=\"text-align: right;\">\n",
       "      <th></th>\n",
       "      <th>species</th>\n",
       "      <th>island</th>\n",
       "      <th>bill_length_mm</th>\n",
       "      <th>bill_depth_mm</th>\n",
       "      <th>flipper_length_mm</th>\n",
       "      <th>body_mass_g</th>\n",
       "      <th>sex</th>\n",
       "    </tr>\n",
       "  </thead>\n",
       "  <tbody>\n",
       "    <tr>\n",
       "      <th>0</th>\n",
       "      <td>Adelie</td>\n",
       "      <td>Torgersen</td>\n",
       "      <td>39.1</td>\n",
       "      <td>18.7</td>\n",
       "      <td>181.0</td>\n",
       "      <td>3750.0</td>\n",
       "      <td>Male</td>\n",
       "    </tr>\n",
       "    <tr>\n",
       "      <th>1</th>\n",
       "      <td>Adelie</td>\n",
       "      <td>Torgersen</td>\n",
       "      <td>39.5</td>\n",
       "      <td>17.4</td>\n",
       "      <td>186.0</td>\n",
       "      <td>3800.0</td>\n",
       "      <td>Female</td>\n",
       "    </tr>\n",
       "    <tr>\n",
       "      <th>2</th>\n",
       "      <td>Adelie</td>\n",
       "      <td>Torgersen</td>\n",
       "      <td>40.3</td>\n",
       "      <td>18.0</td>\n",
       "      <td>195.0</td>\n",
       "      <td>3250.0</td>\n",
       "      <td>Female</td>\n",
       "    </tr>\n",
       "    <tr>\n",
       "      <th>3</th>\n",
       "      <td>Adelie</td>\n",
       "      <td>Torgersen</td>\n",
       "      <td>NaN</td>\n",
       "      <td>NaN</td>\n",
       "      <td>NaN</td>\n",
       "      <td>NaN</td>\n",
       "      <td>NaN</td>\n",
       "    </tr>\n",
       "    <tr>\n",
       "      <th>4</th>\n",
       "      <td>Adelie</td>\n",
       "      <td>Torgersen</td>\n",
       "      <td>36.7</td>\n",
       "      <td>19.3</td>\n",
       "      <td>193.0</td>\n",
       "      <td>3450.0</td>\n",
       "      <td>Female</td>\n",
       "    </tr>\n",
       "    <tr>\n",
       "      <th>...</th>\n",
       "      <td>...</td>\n",
       "      <td>...</td>\n",
       "      <td>...</td>\n",
       "      <td>...</td>\n",
       "      <td>...</td>\n",
       "      <td>...</td>\n",
       "      <td>...</td>\n",
       "    </tr>\n",
       "    <tr>\n",
       "      <th>339</th>\n",
       "      <td>Gentoo</td>\n",
       "      <td>Biscoe</td>\n",
       "      <td>NaN</td>\n",
       "      <td>NaN</td>\n",
       "      <td>NaN</td>\n",
       "      <td>NaN</td>\n",
       "      <td>NaN</td>\n",
       "    </tr>\n",
       "    <tr>\n",
       "      <th>340</th>\n",
       "      <td>Gentoo</td>\n",
       "      <td>Biscoe</td>\n",
       "      <td>46.8</td>\n",
       "      <td>14.3</td>\n",
       "      <td>215.0</td>\n",
       "      <td>4850.0</td>\n",
       "      <td>Female</td>\n",
       "    </tr>\n",
       "    <tr>\n",
       "      <th>341</th>\n",
       "      <td>Gentoo</td>\n",
       "      <td>Biscoe</td>\n",
       "      <td>50.4</td>\n",
       "      <td>15.7</td>\n",
       "      <td>222.0</td>\n",
       "      <td>5750.0</td>\n",
       "      <td>Male</td>\n",
       "    </tr>\n",
       "    <tr>\n",
       "      <th>342</th>\n",
       "      <td>Gentoo</td>\n",
       "      <td>Biscoe</td>\n",
       "      <td>45.2</td>\n",
       "      <td>14.8</td>\n",
       "      <td>212.0</td>\n",
       "      <td>5200.0</td>\n",
       "      <td>Female</td>\n",
       "    </tr>\n",
       "    <tr>\n",
       "      <th>343</th>\n",
       "      <td>Gentoo</td>\n",
       "      <td>Biscoe</td>\n",
       "      <td>49.9</td>\n",
       "      <td>16.1</td>\n",
       "      <td>213.0</td>\n",
       "      <td>5400.0</td>\n",
       "      <td>Male</td>\n",
       "    </tr>\n",
       "  </tbody>\n",
       "</table>\n",
       "<p>344 rows × 7 columns</p>\n",
       "</div>"
      ],
      "text/plain": [
       "    species     island  bill_length_mm  bill_depth_mm  flipper_length_mm  \\\n",
       "0    Adelie  Torgersen            39.1           18.7              181.0   \n",
       "1    Adelie  Torgersen            39.5           17.4              186.0   \n",
       "2    Adelie  Torgersen            40.3           18.0              195.0   \n",
       "3    Adelie  Torgersen             NaN            NaN                NaN   \n",
       "4    Adelie  Torgersen            36.7           19.3              193.0   \n",
       "..      ...        ...             ...            ...                ...   \n",
       "339  Gentoo     Biscoe             NaN            NaN                NaN   \n",
       "340  Gentoo     Biscoe            46.8           14.3              215.0   \n",
       "341  Gentoo     Biscoe            50.4           15.7              222.0   \n",
       "342  Gentoo     Biscoe            45.2           14.8              212.0   \n",
       "343  Gentoo     Biscoe            49.9           16.1              213.0   \n",
       "\n",
       "     body_mass_g     sex  \n",
       "0         3750.0    Male  \n",
       "1         3800.0  Female  \n",
       "2         3250.0  Female  \n",
       "3            NaN     NaN  \n",
       "4         3450.0  Female  \n",
       "..           ...     ...  \n",
       "339          NaN     NaN  \n",
       "340       4850.0  Female  \n",
       "341       5750.0    Male  \n",
       "342       5200.0  Female  \n",
       "343       5400.0    Male  \n",
       "\n",
       "[344 rows x 7 columns]"
      ]
     },
     "execution_count": 13,
     "metadata": {},
     "output_type": "execute_result"
    }
   ],
   "source": [
    "# 导入示例数据\n",
    "penguins = sns.load_dataset(\"penguins\")\n",
    "penguins"
   ]
  },
  {
   "cell_type": "code",
   "execution_count": 14,
   "id": "cc65f6a8-cbf8-4bdb-a4fd-810bd8765bce",
   "metadata": {
    "scrolled": true
   },
   "outputs": [],
   "source": [
    "# 传入penguins作为数据，以species为横轴数据，body_mass_g为纵轴数据，条柱的颜色根据sex分类，绘制复合直方图\n",
    "\n"
   ]
  },
  {
   "cell_type": "markdown",
   "id": "78fede6b-d39f-428c-8076-d35533863388",
   "metadata": {},
   "source": [
    "## 热力图"
   ]
  },
  {
   "cell_type": "code",
   "execution_count": 15,
   "id": "864d2458-3d4e-48bf-a0d8-6458f726731a",
   "metadata": {},
   "outputs": [
    {
     "data": {
      "text/html": [
       "<div>\n",
       "<style scoped>\n",
       "    .dataframe tbody tr th:only-of-type {\n",
       "        vertical-align: middle;\n",
       "    }\n",
       "\n",
       "    .dataframe tbody tr th {\n",
       "        vertical-align: top;\n",
       "    }\n",
       "\n",
       "    .dataframe thead th {\n",
       "        text-align: right;\n",
       "    }\n",
       "</style>\n",
       "<table border=\"1\" class=\"dataframe\">\n",
       "  <thead>\n",
       "    <tr style=\"text-align: right;\">\n",
       "      <th>Task</th>\n",
       "      <th>CoLA</th>\n",
       "      <th>MNLI</th>\n",
       "      <th>MRPC</th>\n",
       "      <th>QNLI</th>\n",
       "      <th>QQP</th>\n",
       "      <th>RTE</th>\n",
       "      <th>SST-2</th>\n",
       "      <th>STS-B</th>\n",
       "    </tr>\n",
       "    <tr>\n",
       "      <th>Model</th>\n",
       "      <th></th>\n",
       "      <th></th>\n",
       "      <th></th>\n",
       "      <th></th>\n",
       "      <th></th>\n",
       "      <th></th>\n",
       "      <th></th>\n",
       "      <th></th>\n",
       "    </tr>\n",
       "  </thead>\n",
       "  <tbody>\n",
       "    <tr>\n",
       "      <th>BERT</th>\n",
       "      <td>60.5</td>\n",
       "      <td>86.7</td>\n",
       "      <td>89.3</td>\n",
       "      <td>92.7</td>\n",
       "      <td>72.1</td>\n",
       "      <td>70.1</td>\n",
       "      <td>94.9</td>\n",
       "      <td>87.6</td>\n",
       "    </tr>\n",
       "    <tr>\n",
       "      <th>BiLSTM</th>\n",
       "      <td>11.6</td>\n",
       "      <td>65.6</td>\n",
       "      <td>81.8</td>\n",
       "      <td>74.6</td>\n",
       "      <td>62.5</td>\n",
       "      <td>57.4</td>\n",
       "      <td>82.8</td>\n",
       "      <td>70.3</td>\n",
       "    </tr>\n",
       "    <tr>\n",
       "      <th>BiLSTM+Attn</th>\n",
       "      <td>18.6</td>\n",
       "      <td>67.6</td>\n",
       "      <td>83.9</td>\n",
       "      <td>74.3</td>\n",
       "      <td>60.1</td>\n",
       "      <td>58.4</td>\n",
       "      <td>83.0</td>\n",
       "      <td>72.8</td>\n",
       "    </tr>\n",
       "    <tr>\n",
       "      <th>BiLSTM+CoVe</th>\n",
       "      <td>18.5</td>\n",
       "      <td>65.4</td>\n",
       "      <td>78.7</td>\n",
       "      <td>70.8</td>\n",
       "      <td>60.6</td>\n",
       "      <td>52.7</td>\n",
       "      <td>81.9</td>\n",
       "      <td>64.4</td>\n",
       "    </tr>\n",
       "    <tr>\n",
       "      <th>BiLSTM+ELMo</th>\n",
       "      <td>32.1</td>\n",
       "      <td>67.2</td>\n",
       "      <td>84.7</td>\n",
       "      <td>75.5</td>\n",
       "      <td>61.1</td>\n",
       "      <td>57.4</td>\n",
       "      <td>89.3</td>\n",
       "      <td>70.3</td>\n",
       "    </tr>\n",
       "    <tr>\n",
       "      <th>ERNIE</th>\n",
       "      <td>75.5</td>\n",
       "      <td>92.3</td>\n",
       "      <td>93.9</td>\n",
       "      <td>97.3</td>\n",
       "      <td>75.2</td>\n",
       "      <td>92.6</td>\n",
       "      <td>97.8</td>\n",
       "      <td>93.0</td>\n",
       "    </tr>\n",
       "    <tr>\n",
       "      <th>RoBERTa</th>\n",
       "      <td>67.8</td>\n",
       "      <td>90.8</td>\n",
       "      <td>92.3</td>\n",
       "      <td>95.4</td>\n",
       "      <td>74.3</td>\n",
       "      <td>88.2</td>\n",
       "      <td>96.7</td>\n",
       "      <td>92.2</td>\n",
       "    </tr>\n",
       "    <tr>\n",
       "      <th>T5</th>\n",
       "      <td>71.6</td>\n",
       "      <td>92.2</td>\n",
       "      <td>92.8</td>\n",
       "      <td>96.9</td>\n",
       "      <td>75.1</td>\n",
       "      <td>92.8</td>\n",
       "      <td>97.5</td>\n",
       "      <td>93.1</td>\n",
       "    </tr>\n",
       "  </tbody>\n",
       "</table>\n",
       "</div>"
      ],
      "text/plain": [
       "Task         CoLA  MNLI  MRPC  QNLI   QQP   RTE  SST-2  STS-B\n",
       "Model                                                        \n",
       "BERT         60.5  86.7  89.3  92.7  72.1  70.1   94.9   87.6\n",
       "BiLSTM       11.6  65.6  81.8  74.6  62.5  57.4   82.8   70.3\n",
       "BiLSTM+Attn  18.6  67.6  83.9  74.3  60.1  58.4   83.0   72.8\n",
       "BiLSTM+CoVe  18.5  65.4  78.7  70.8  60.6  52.7   81.9   64.4\n",
       "BiLSTM+ELMo  32.1  67.2  84.7  75.5  61.1  57.4   89.3   70.3\n",
       "ERNIE        75.5  92.3  93.9  97.3  75.2  92.6   97.8   93.0\n",
       "RoBERTa      67.8  90.8  92.3  95.4  74.3  88.2   96.7   92.2\n",
       "T5           71.6  92.2  92.8  96.9  75.1  92.8   97.5   93.1"
      ]
     },
     "execution_count": 15,
     "metadata": {},
     "output_type": "execute_result"
    }
   ],
   "source": [
    "# 导入示例数据\n",
    "glue = sns.load_dataset(\"glue\").pivot(index='Model', columns='Task', values='Score')\n",
    "glue"
   ]
  },
  {
   "cell_type": "code",
   "execution_count": 16,
   "id": "acd82d2f-c80b-49ff-aec3-b8f781e9ea43",
   "metadata": {},
   "outputs": [],
   "source": [
    "# 传入glue作为数据，绘制热力图\n",
    "\n"
   ]
  },
  {
   "cell_type": "code",
   "execution_count": 17,
   "id": "768fb174-0763-477c-b7dd-19c5422ba019",
   "metadata": {},
   "outputs": [],
   "source": [
    "# 传入glue作为数据，绘制热力图，并在热力图上展示数值数字\n",
    "\n"
   ]
  },
  {
   "cell_type": "markdown",
   "id": "bb93e2a7-7866-4e58-a322-452694caa606",
   "metadata": {},
   "source": [
    "## 图上绘制多个图表"
   ]
  },
  {
   "cell_type": "code",
   "execution_count": 18,
   "id": "dc2c6257-3df1-474f-b2e3-170bae098a8a",
   "metadata": {},
   "outputs": [],
   "source": [
    "# 对所需数据进行赋值\n",
    "setosa = iris.query('species == \"setosa\"')\n",
    "versicolor = iris.query('species == \"versicolor\"')\n",
    "virginica = iris.query('species == \"virginica\"')"
   ]
  },
  {
   "cell_type": "code",
   "execution_count": 19,
   "id": "9daf25ec-f441-47be-a3eb-85fa7558979f",
   "metadata": {},
   "outputs": [],
   "source": [
    "# 在同一张图上对setosa、versicolor、virginica的petal_length变量绘制直方图\n",
    "\n"
   ]
  },
  {
   "cell_type": "code",
   "execution_count": 20,
   "id": "52adc54b-70c7-4c54-97b0-9b75660c0e52",
   "metadata": {},
   "outputs": [],
   "source": [
    "# 在同一张图上对setosa、versicolor、virginica的petal_length变量绘制直方图，条柱宽度为0.1\n",
    "\n"
   ]
  },
  {
   "cell_type": "code",
   "execution_count": 21,
   "id": "780a89a3-12e9-404b-860e-cf9c9ff0aa56",
   "metadata": {},
   "outputs": [],
   "source": [
    "# 在同一张图上对setosa、versicolor、virginica的petal_length变量绘制直方图，条柱宽度为0.1\n",
    "# 在图上给三个直方图添加标签，分别为“Setosa”、“Versicolor”、“Virginica”，并展示图例\n",
    "\n"
   ]
  },
  {
   "cell_type": "code",
   "execution_count": 22,
   "id": "7dd76bb3-f390-445a-b68d-f7e6b9bec5e4",
   "metadata": {},
   "outputs": [],
   "source": [
    "# 在同一张图上对setosa、versicolor、virginica的petal_length变量绘制密度图，条柱宽度为0.1\n",
    "# 在图上给三个密度图添加标签，分别为“Setosa”、“Versicolor”、“Virginica”，并展示图例\n",
    "\n"
   ]
  },
  {
   "cell_type": "code",
   "execution_count": 23,
   "id": "33a1e401-876b-44fb-a48d-12b9df61b417",
   "metadata": {},
   "outputs": [],
   "source": [
    "# 在同一张图上对setosa、versicolor、virginica的petal_length变量绘制箱型图\n",
    "\n"
   ]
  },
  {
   "cell_type": "code",
   "execution_count": 24,
   "id": "bf8c90bf-1bc3-404f-9e66-ad7408c204fe",
   "metadata": {},
   "outputs": [],
   "source": [
    "# 在同一张图上对setosa、versicolor、virginica的petal_length变量绘制小提琴图\n",
    "\n"
   ]
  },
  {
   "cell_type": "code",
   "execution_count": 25,
   "id": "de83b9ad-ffb5-455e-a81e-58bf123102c6",
   "metadata": {},
   "outputs": [],
   "source": [
    "# 传入iris作为数据，以species为横轴数据，petal_length为纵轴数据，绘制箱型图\n",
    "\n"
   ]
  },
  {
   "cell_type": "code",
   "execution_count": 26,
   "id": "b2eb2084-8719-4dd2-8c7c-04ea468247db",
   "metadata": {},
   "outputs": [],
   "source": [
    "# 传入iris作为数据，以species为横轴数据，petal_length为纵轴数据，绘制小提琴图\n",
    "\n"
   ]
  },
  {
   "cell_type": "markdown",
   "id": "7f64464b-32b9-4aad-a75f-f84ebcbb0bbb",
   "metadata": {},
   "source": [
    "## 图上绘制多个子图"
   ]
  },
  {
   "cell_type": "code",
   "execution_count": 27,
   "id": "afb07ab4-bfb8-47c5-823a-5714f1982dda",
   "metadata": {},
   "outputs": [],
   "source": [
    "# 绘制一个一行三列的空白子图\n",
    "\n"
   ]
  },
  {
   "cell_type": "code",
   "execution_count": 28,
   "id": "1b02e7d7-fbf4-4ed6-b524-82b0e77f5a58",
   "metadata": {},
   "outputs": [],
   "source": [
    "# 绘制一个一行三列的空白子图，子图尺寸为(15 ,5)\n",
    "\n"
   ]
  },
  {
   "cell_type": "code",
   "execution_count": 29,
   "id": "ab2407db-f493-4cde-a772-4f03aaeb51c9",
   "metadata": {},
   "outputs": [],
   "source": [
    "# 绘制一个一行三列的子图，子图尺寸为(15 ,5)\n",
    "# 每个子图里传入iris作为数据，species为横轴变量，纵轴变量在每个子图里分别为sepal_length、sepal_width、petal_length，绘制箱型图\n",
    "\n"
   ]
  },
  {
   "cell_type": "markdown",
   "id": "a27b71e6-66ec-4638-a550-7ad8b8d86211",
   "metadata": {},
   "source": [
    "## 成对图（Pair Plot）"
   ]
  },
  {
   "cell_type": "code",
   "execution_count": 30,
   "id": "697201c4-2490-412a-b2ae-70938ef2a5cc",
   "metadata": {},
   "outputs": [],
   "source": [
    "# 传入iris作为数据，绘制成对图（Pair Plot）\n",
    "\n"
   ]
  },
  {
   "cell_type": "code",
   "execution_count": 31,
   "id": "d3f5ab30-cf65-447d-9de9-260871b7eada",
   "metadata": {},
   "outputs": [],
   "source": [
    "# 传入iris作为数据，以species进行颜色分类，绘制成对图（Pair Plot）\n",
    "\n"
   ]
  },
  {
   "cell_type": "code",
   "execution_count": null,
   "id": "d0ecc919-78ee-46f3-9bac-bbe8ddf007f5",
   "metadata": {},
   "outputs": [],
   "source": []
  }
 ],
 "metadata": {
  "kernelspec": {
   "display_name": "Python 3 (ipykernel)",
   "language": "python",
   "name": "python3"
  },
  "language_info": {
   "codemirror_mode": {
    "name": "ipython",
    "version": 3
   },
   "file_extension": ".py",
   "mimetype": "text/x-python",
   "name": "python",
   "nbconvert_exporter": "python",
   "pygments_lexer": "ipython3",
   "version": "3.11.3"
  }
 },
 "nbformat": 4,
 "nbformat_minor": 5
}
