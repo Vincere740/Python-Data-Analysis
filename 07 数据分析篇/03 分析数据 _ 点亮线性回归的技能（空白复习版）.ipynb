{
 "cells": [
  {
   "cell_type": "code",
   "execution_count": 1,
   "id": "4b42bb86-e1ac-4c66-9ed2-6c2bfdfd5b09",
   "metadata": {},
   "outputs": [],
   "source": [
    "import statsmodels.api as sm\n",
    "import numpy as np\n",
    "import pandas as pd\n",
    "import seaborn as sns\n",
    "import matplotlib.pyplot as plt"
   ]
  },
  {
   "cell_type": "markdown",
   "id": "6cd58c48-69a1-4b3e-94d7-fa35766114bc",
   "metadata": {},
   "source": [
    "## 构建线性回归模型"
   ]
  },
  {
   "cell_type": "code",
   "execution_count": 2,
   "id": "685717e6-0ff4-4689-b241-64ec05cf18c3",
   "metadata": {},
   "outputs": [
    {
     "data": {
      "text/html": [
       "<div>\n",
       "<style scoped>\n",
       "    .dataframe tbody tr th:only-of-type {\n",
       "        vertical-align: middle;\n",
       "    }\n",
       "\n",
       "    .dataframe tbody tr th {\n",
       "        vertical-align: top;\n",
       "    }\n",
       "\n",
       "    .dataframe thead th {\n",
       "        text-align: right;\n",
       "    }\n",
       "</style>\n",
       "<table border=\"1\" class=\"dataframe\">\n",
       "  <thead>\n",
       "    <tr style=\"text-align: right;\">\n",
       "      <th></th>\n",
       "      <th>面积</th>\n",
       "      <th>卧室数</th>\n",
       "      <th>厕所数</th>\n",
       "      <th>所在城市</th>\n",
       "      <th>价格</th>\n",
       "    </tr>\n",
       "  </thead>\n",
       "  <tbody>\n",
       "    <tr>\n",
       "      <th>0</th>\n",
       "      <td>957.2</td>\n",
       "      <td>2</td>\n",
       "      <td>1</td>\n",
       "      <td>C</td>\n",
       "      <td>397300</td>\n",
       "    </tr>\n",
       "    <tr>\n",
       "      <th>1</th>\n",
       "      <td>1998.7</td>\n",
       "      <td>3</td>\n",
       "      <td>1</td>\n",
       "      <td>B</td>\n",
       "      <td>719500</td>\n",
       "    </tr>\n",
       "    <tr>\n",
       "      <th>2</th>\n",
       "      <td>1641.5</td>\n",
       "      <td>4</td>\n",
       "      <td>3</td>\n",
       "      <td>B</td>\n",
       "      <td>628300</td>\n",
       "    </tr>\n",
       "    <tr>\n",
       "      <th>3</th>\n",
       "      <td>746.9</td>\n",
       "      <td>2</td>\n",
       "      <td>2</td>\n",
       "      <td>D</td>\n",
       "      <td>359300</td>\n",
       "    </tr>\n",
       "    <tr>\n",
       "      <th>4</th>\n",
       "      <td>1210.7</td>\n",
       "      <td>3</td>\n",
       "      <td>1</td>\n",
       "      <td>D</td>\n",
       "      <td>487500</td>\n",
       "    </tr>\n",
       "    <tr>\n",
       "      <th>...</th>\n",
       "      <td>...</td>\n",
       "      <td>...</td>\n",
       "      <td>...</td>\n",
       "      <td>...</td>\n",
       "      <td>...</td>\n",
       "    </tr>\n",
       "    <tr>\n",
       "      <th>995</th>\n",
       "      <td>1817.4</td>\n",
       "      <td>4</td>\n",
       "      <td>2</td>\n",
       "      <td>C</td>\n",
       "      <td>680100</td>\n",
       "    </tr>\n",
       "    <tr>\n",
       "      <th>996</th>\n",
       "      <td>2035.0</td>\n",
       "      <td>2</td>\n",
       "      <td>2</td>\n",
       "      <td>A</td>\n",
       "      <td>705000</td>\n",
       "    </tr>\n",
       "    <tr>\n",
       "      <th>997</th>\n",
       "      <td>1045.3</td>\n",
       "      <td>3</td>\n",
       "      <td>3</td>\n",
       "      <td>B</td>\n",
       "      <td>454400</td>\n",
       "    </tr>\n",
       "    <tr>\n",
       "      <th>998</th>\n",
       "      <td>1735.1</td>\n",
       "      <td>2</td>\n",
       "      <td>3</td>\n",
       "      <td>A</td>\n",
       "      <td>629300</td>\n",
       "    </tr>\n",
       "    <tr>\n",
       "      <th>999</th>\n",
       "      <td>944.3</td>\n",
       "      <td>3</td>\n",
       "      <td>1</td>\n",
       "      <td>B</td>\n",
       "      <td>389200</td>\n",
       "    </tr>\n",
       "  </tbody>\n",
       "</table>\n",
       "<p>1000 rows × 5 columns</p>\n",
       "</div>"
      ],
      "text/plain": [
       "         面积  卧室数  厕所数 所在城市      价格\n",
       "0     957.2    2    1    C  397300\n",
       "1    1998.7    3    1    B  719500\n",
       "2    1641.5    4    3    B  628300\n",
       "3     746.9    2    2    D  359300\n",
       "4    1210.7    3    1    D  487500\n",
       "..      ...  ...  ...  ...     ...\n",
       "995  1817.4    4    2    C  680100\n",
       "996  2035.0    2    2    A  705000\n",
       "997  1045.3    3    3    B  454400\n",
       "998  1735.1    2    3    A  629300\n",
       "999   944.3    3    1    B  389200\n",
       "\n",
       "[1000 rows x 5 columns]"
      ]
     },
     "execution_count": 2,
     "metadata": {},
     "output_type": "execute_result"
    }
   ],
   "source": [
    "# 读取示例数据\n",
    "data = pd.read_csv(\"house_price_simple.csv\")\n",
    "data"
   ]
  },
  {
   "cell_type": "code",
   "execution_count": 3,
   "id": "779f7847-586b-4e03-896d-97a8f337ef0f",
   "metadata": {},
   "outputs": [],
   "source": [
    "# 为data的“所在城市”分类变量创建虚拟变量，并指定虚拟变量类型为整数，且删除掉第一个虚拟变量\n",
    "\n"
   ]
  },
  {
   "cell_type": "code",
   "execution_count": 4,
   "id": "6be037c7-c948-4ebb-b6a7-8bf2b6a49a5b",
   "metadata": {},
   "outputs": [],
   "source": [
    "# 创建构建线性回归模型所需的因变量和自变量\n",
    "\n"
   ]
  },
  {
   "cell_type": "code",
   "execution_count": 5,
   "id": "023f13b2-5209-4775-aa5b-04ef93dddc51",
   "metadata": {},
   "outputs": [],
   "source": [
    "# 查看X里所有变量之间的相关系数，并求绝对值\n",
    "\n"
   ]
  },
  {
   "cell_type": "code",
   "execution_count": 6,
   "id": "a51a9efe-b9ad-43f5-bab9-9937ae04a29e",
   "metadata": {},
   "outputs": [],
   "source": [
    "# 这一步是为了下面绘图做准备，由于DataFrame的列名为中文，MatPlotlib的字体无法直接展示，需要替换字体\n",
    "import matplotlib\n",
    "# 把图表默认的字体替换成Heiti TC字体（你的系统上不一定有这个字体，如果没有的话需要替换成其它的）\n",
    "matplotlib.rc(\"font\",family='Heiti TC')"
   ]
  },
  {
   "cell_type": "code",
   "execution_count": 7,
   "id": "7726f76c-d202-4854-8df5-95c8c5850cd3",
   "metadata": {},
   "outputs": [],
   "source": [
    "# 对X里所有变量之间的相关系数的绝对值绘制热力图\n",
    "\n"
   ]
  },
  {
   "cell_type": "code",
   "execution_count": 8,
   "id": "929bba35-ffb5-4e6f-bd91-27b4712f6692",
   "metadata": {},
   "outputs": [],
   "source": [
    "# 在自变量里添加一个常量（为了引入截距）\n",
    "\n"
   ]
  },
  {
   "cell_type": "code",
   "execution_count": 9,
   "id": "a2bc09bf-864d-456f-bacc-cf74773d8076",
   "metadata": {},
   "outputs": [],
   "source": [
    "# 构建线性回归模型，并进行数据拟合\n",
    "\n",
    "\n",
    "# 输出拟合结果\n",
    "\n"
   ]
  },
  {
   "cell_type": "markdown",
   "id": "2300ddab-c2e9-4985-9015-496a51f11f25",
   "metadata": {},
   "source": [
    "## 预测新数据"
   ]
  },
  {
   "cell_type": "code",
   "execution_count": 10,
   "id": "a0a45844-3ddf-429c-b4ae-90e626426d05",
   "metadata": {},
   "outputs": [
    {
     "data": {
      "text/html": [
       "<div>\n",
       "<style scoped>\n",
       "    .dataframe tbody tr th:only-of-type {\n",
       "        vertical-align: middle;\n",
       "    }\n",
       "\n",
       "    .dataframe tbody tr th {\n",
       "        vertical-align: top;\n",
       "    }\n",
       "\n",
       "    .dataframe thead th {\n",
       "        text-align: right;\n",
       "    }\n",
       "</style>\n",
       "<table border=\"1\" class=\"dataframe\">\n",
       "  <thead>\n",
       "    <tr style=\"text-align: right;\">\n",
       "      <th></th>\n",
       "      <th>面积</th>\n",
       "      <th>卧室数</th>\n",
       "      <th>厕所数</th>\n",
       "      <th>所在城市</th>\n",
       "    </tr>\n",
       "  </thead>\n",
       "  <tbody>\n",
       "    <tr>\n",
       "      <th>0</th>\n",
       "      <td>957.2</td>\n",
       "      <td>2</td>\n",
       "      <td>2</td>\n",
       "      <td>C</td>\n",
       "    </tr>\n",
       "    <tr>\n",
       "      <th>1</th>\n",
       "      <td>1998.7</td>\n",
       "      <td>2</td>\n",
       "      <td>2</td>\n",
       "      <td>C</td>\n",
       "    </tr>\n",
       "    <tr>\n",
       "      <th>2</th>\n",
       "      <td>1641.5</td>\n",
       "      <td>4</td>\n",
       "      <td>1</td>\n",
       "      <td>C</td>\n",
       "    </tr>\n",
       "    <tr>\n",
       "      <th>3</th>\n",
       "      <td>746.9</td>\n",
       "      <td>2</td>\n",
       "      <td>2</td>\n",
       "      <td>C</td>\n",
       "    </tr>\n",
       "    <tr>\n",
       "      <th>4</th>\n",
       "      <td>1210.7</td>\n",
       "      <td>2</td>\n",
       "      <td>1</td>\n",
       "      <td>B</td>\n",
       "    </tr>\n",
       "    <tr>\n",
       "      <th>5</th>\n",
       "      <td>2325.7</td>\n",
       "      <td>2</td>\n",
       "      <td>1</td>\n",
       "      <td>C</td>\n",
       "    </tr>\n",
       "    <tr>\n",
       "      <th>6</th>\n",
       "      <td>286.7</td>\n",
       "      <td>4</td>\n",
       "      <td>2</td>\n",
       "      <td>A</td>\n",
       "    </tr>\n",
       "    <tr>\n",
       "      <th>7</th>\n",
       "      <td>1285.5</td>\n",
       "      <td>4</td>\n",
       "      <td>1</td>\n",
       "      <td>D</td>\n",
       "    </tr>\n",
       "    <tr>\n",
       "      <th>8</th>\n",
       "      <td>2133.0</td>\n",
       "      <td>3</td>\n",
       "      <td>1</td>\n",
       "      <td>D</td>\n",
       "    </tr>\n",
       "    <tr>\n",
       "      <th>9</th>\n",
       "      <td>1066.6</td>\n",
       "      <td>3</td>\n",
       "      <td>1</td>\n",
       "      <td>D</td>\n",
       "    </tr>\n",
       "  </tbody>\n",
       "</table>\n",
       "</div>"
      ],
      "text/plain": [
       "       面积  卧室数  厕所数 所在城市\n",
       "0   957.2    2    2    C\n",
       "1  1998.7    2    2    C\n",
       "2  1641.5    4    1    C\n",
       "3   746.9    2    2    C\n",
       "4  1210.7    2    1    B\n",
       "5  2325.7    2    1    C\n",
       "6   286.7    4    2    A\n",
       "7  1285.5    4    1    D\n",
       "8  2133.0    3    1    D\n",
       "9  1066.6    3    1    D"
      ]
     },
     "execution_count": 10,
     "metadata": {},
     "output_type": "execute_result"
    }
   ],
   "source": [
    "# 读取用于预测的示例数据\n",
    "new_observation = pd.read_csv(\"house_price_predict_simple.csv\")\n",
    "new_observation"
   ]
  },
  {
   "cell_type": "code",
   "execution_count": 11,
   "id": "e10ca4d7-09b7-4857-93ab-f4fb8ed6e3a4",
   "metadata": {},
   "outputs": [],
   "source": [
    "# 把new_observation的“所在城市”列转换为包含'A'、'B'、'C'、'D'类别的分类变量\n",
    "\n"
   ]
  },
  {
   "cell_type": "code",
   "execution_count": 12,
   "id": "bd487848-0d49-48e1-9e00-4d3f45ad22c6",
   "metadata": {},
   "outputs": [],
   "source": [
    "# 为new_observation的“所在城市”分类变量创建虚拟变量，并指定虚拟变量类型为整数，且删除掉第一个虚拟变量\n",
    "\n"
   ]
  },
  {
   "cell_type": "code",
   "execution_count": 13,
   "id": "850ff164-ce48-4ce1-9de4-3000a0d6890e",
   "metadata": {},
   "outputs": [],
   "source": [
    "# 在new_observation里添加一个常量（为了引入截距）\n",
    "\n"
   ]
  },
  {
   "cell_type": "code",
   "execution_count": 14,
   "id": "72325de8-3d6a-42af-8912-083ab7a04092",
   "metadata": {},
   "outputs": [],
   "source": [
    "# 利用前面的线性回归模型，把new_observation作为自变量进行预测\n",
    "\n"
   ]
  },
  {
   "cell_type": "code",
   "execution_count": null,
   "id": "642ec64d-65fc-40d2-b8f7-957c69f07d03",
   "metadata": {},
   "outputs": [],
   "source": []
  }
 ],
 "metadata": {
  "kernelspec": {
   "display_name": "Python 3",
   "language": "python",
   "name": "python3"
  },
  "language_info": {
   "codemirror_mode": {
    "name": "ipython",
    "version": 3
   },
   "file_extension": ".py",
   "mimetype": "text/x-python",
   "name": "python",
   "nbconvert_exporter": "python",
   "pygments_lexer": "ipython3",
   "version": "3.8.1"
  }
 },
 "nbformat": 4,
 "nbformat_minor": 5
}
