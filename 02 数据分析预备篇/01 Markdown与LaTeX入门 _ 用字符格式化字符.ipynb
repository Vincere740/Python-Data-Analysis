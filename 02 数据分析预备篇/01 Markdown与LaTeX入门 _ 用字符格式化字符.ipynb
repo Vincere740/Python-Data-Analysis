{
 "cells": [
  {
   "cell_type": "markdown",
   "id": "113895c5",
   "metadata": {},
   "source": [
    "# 我是最大的标题\n",
    "\n",
    "## 我是第二大的标题\n",
    "\n",
    "### 我是第三大的标题\n",
    "\n",
    "#### 我是倒数第三小的标题\n",
    "\n",
    "##### 我是倒数第二小的标题\n",
    "\n",
    "###### 我是最小的标题 "
   ]
  },
  {
   "cell_type": "markdown",
   "id": "15653af9",
   "metadata": {},
   "source": [
    "我是**粗体字**\n",
    "\n",
    "我是*斜体字*\n",
    "\n",
    "我被~~删除~~了"
   ]
  },
  {
   "cell_type": "markdown",
   "id": "fac94e05",
   "metadata": {},
   "source": [
    "我是普普通通的文字  \n",
    "我是另一行的普通文字"
   ]
  },
  {
   "cell_type": "markdown",
   "id": "365eaf50",
   "metadata": {},
   "source": [
    "- 我是列表的第一项\n",
    "- 我是列表的第二项\n",
    "- 我是列表的第三项"
   ]
  },
  {
   "cell_type": "markdown",
   "id": "99e5f02b",
   "metadata": {},
   "source": [
    "1. 我是列表的第一项\n",
    "2. 我是列表的第二项\n",
    "3. 我是列表的第三项"
   ]
  },
  {
   "cell_type": "markdown",
   "id": "6fe1d7bf",
   "metadata": {},
   "source": [
    "https://space.bilibili.com/523995133"
   ]
  },
  {
   "cell_type": "markdown",
   "id": "f817bb5b",
   "metadata": {},
   "source": [
    "[我的主页地址](https://space.bilibili.com/523995133)"
   ]
  },
  {
   "cell_type": "markdown",
   "id": "ac23104c",
   "metadata": {},
   "source": [
    "![城市景观](https://img0.baidu.com/it/u=25183460,870873689&fm=253)"
   ]
  },
  {
   "cell_type": "markdown",
   "id": "915dd884",
   "metadata": {},
   "source": [
    "> 蒹葭苍苍\n",
    "白露为霜"
   ]
  },
  {
   "cell_type": "markdown",
   "id": "b4e4e2a8",
   "metadata": {},
   "source": [
    "我们通过`import math`来引入math库。"
   ]
  },
  {
   "cell_type": "markdown",
   "id": "79f57aa0",
   "metadata": {},
   "source": [
    "```\n",
    "import math\n",
    "print(\"Hello World!\")\n",
    "print(math.pi)\n",
    "```"
   ]
  },
  {
   "cell_type": "markdown",
   "id": "326b22f9",
   "metadata": {},
   "source": [
    "```python\n",
    "import math\n",
    "print(\"Hello World!\")\n",
    "print(math.pi)\n",
    "```"
   ]
  },
  {
   "cell_type": "markdown",
   "id": "8f584c90",
   "metadata": {},
   "source": [
    "这是一个公式：$y = x + 3$"
   ]
  },
  {
   "cell_type": "markdown",
   "id": "71c74b38",
   "metadata": {},
   "source": [
    "下面是独占一行的公式：$$y = x + 3$$"
   ]
  },
  {
   "cell_type": "markdown",
   "id": "822ab6a6",
   "metadata": {},
   "source": [
    "$$x + y$$\n",
    "$$x - y$$\n",
    "$$x \\times y$$\n",
    "$$x \\div y$$"
   ]
  },
  {
   "cell_type": "markdown",
   "id": "e9cc3bb3",
   "metadata": {},
   "source": [
    "$$x^3$$\n",
    "$$H_2O$$\n",
    "$$S_{input}$$"
   ]
  },
  {
   "cell_type": "markdown",
   "id": "64318ba0",
   "metadata": {},
   "source": [
    "$$\\sum (x^2 + y^2)$$ \n",
    "$$\\sqrt[3]x $$"
   ]
  },
  {
   "cell_type": "markdown",
   "id": "768d4164",
   "metadata": {},
   "source": [
    "$$\\sum (x^2 + y^2)$$ \n",
    "$$\\sqrt[3]{a^2m^2}$$"
   ]
  },
  {
   "cell_type": "markdown",
   "id": "7b54a66e",
   "metadata": {},
   "source": [
    "$$\\sqrt[3]{a^2m^2}$$"
   ]
  },
  {
   "cell_type": "markdown",
   "id": "dbc38518",
   "metadata": {},
   "source": [
    "$$\\sqrt[3]a^2m^2$$"
   ]
  },
  {
   "cell_type": "markdown",
   "id": "e31a30a2",
   "metadata": {},
   "source": [
    "$$\\frac{x+y}{x-y}$$"
   ]
  },
  {
   "cell_type": "code",
   "execution_count": null,
   "id": "69890604",
   "metadata": {},
   "outputs": [],
   "source": []
  }
 ],
 "metadata": {
  "kernelspec": {
   "display_name": "Python 3",
   "language": "python",
   "name": "python3"
  },
  "language_info": {
   "codemirror_mode": {
    "name": "ipython",
    "version": 3
   },
   "file_extension": ".py",
   "mimetype": "text/x-python",
   "name": "python",
   "nbconvert_exporter": "python",
   "pygments_lexer": "ipython3",
   "version": "3.8.1"
  }
 },
 "nbformat": 4,
 "nbformat_minor": 5
}
