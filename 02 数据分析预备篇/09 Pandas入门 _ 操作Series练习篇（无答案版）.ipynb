{
 "cells": [
  {
   "cell_type": "markdown",
   "id": "16883624",
   "metadata": {},
   "source": [
    "#### 写出导入pandas的语句，并且给pandas别名为pd。"
   ]
  },
  {
   "cell_type": "code",
   "execution_count": null,
   "id": "98d4b0d0",
   "metadata": {},
   "outputs": [],
   "source": []
  },
  {
   "cell_type": "markdown",
   "id": "87c9c934",
   "metadata": {},
   "source": [
    "#### 创建s1，包含元素 [92, 67, 70, 88, 76] 及对应索引 [\"小明\", \"小红\", \"小杰\", \"小丽\", \"小华\"]。创建s2，包含元素 [95, 85, 60, 79, 76] 及对应索引 [\"小明\", \"小杰\", \"小宇\", \"小娟\", \"小彤\"]。创建后打印s1和s2。"
   ]
  },
  {
   "cell_type": "code",
   "execution_count": null,
   "id": "645a30ec",
   "metadata": {},
   "outputs": [],
   "source": []
  },
  {
   "cell_type": "markdown",
   "id": "b02a9ae6",
   "metadata": {},
   "source": [
    "#### 让s1和s2的相同索引元素之间进行相加，若无法找到对应索引的值则将缺失值用0代替。"
   ]
  },
  {
   "cell_type": "code",
   "execution_count": null,
   "id": "c2168a42",
   "metadata": {},
   "outputs": [],
   "source": []
  },
  {
   "cell_type": "markdown",
   "id": "2d50cf68",
   "metadata": {},
   "source": [
    "#### 输出s1的统计学相关数据，包括最大值、最小值、平均值、标准差。"
   ]
  },
  {
   "cell_type": "code",
   "execution_count": null,
   "id": "e8a05e76",
   "metadata": {},
   "outputs": [],
   "source": []
  },
  {
   "cell_type": "markdown",
   "id": "859a6918",
   "metadata": {},
   "source": [
    "#### 把s1更新为所有数字加5后的结果，并进行输出。"
   ]
  },
  {
   "cell_type": "code",
   "execution_count": null,
   "id": "75799fe6",
   "metadata": {},
   "outputs": [],
   "source": []
  },
  {
   "cell_type": "markdown",
   "id": "b91337ed",
   "metadata": {},
   "source": [
    "#### 根据以下规则，输出一个新的Series，包含s1里各个学生成绩所对应的等级。\n",
    "> - A：90分及以上\n",
    "> - B：80分及以上 - 90分\n",
    "> - C：70分及以上 - 80分\n",
    "> - D：60分及以上 - 70分\n",
    "> - 不及格：60分以下"
   ]
  },
  {
   "cell_type": "code",
   "execution_count": null,
   "id": "019cd2e9",
   "metadata": {},
   "outputs": [],
   "source": []
  }
 ],
 "metadata": {
  "kernelspec": {
   "display_name": "Python 3",
   "language": "python",
   "name": "python3"
  },
  "language_info": {
   "codemirror_mode": {
    "name": "ipython",
    "version": 3
   },
   "file_extension": ".py",
   "mimetype": "text/x-python",
   "name": "python",
   "nbconvert_exporter": "python",
   "pygments_lexer": "ipython3",
   "version": "3.8.1"
  }
 },
 "nbformat": 4,
 "nbformat_minor": 5
}
