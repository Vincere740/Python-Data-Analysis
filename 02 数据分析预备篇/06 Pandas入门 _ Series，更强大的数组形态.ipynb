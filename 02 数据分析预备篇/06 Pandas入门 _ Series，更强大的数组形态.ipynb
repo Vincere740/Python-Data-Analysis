{
 "cells": [
  {
   "cell_type": "code",
   "execution_count": 1,
   "id": "8377d1c1",
   "metadata": {},
   "outputs": [],
   "source": [
    "import pandas as pd"
   ]
  },
  {
   "cell_type": "code",
   "execution_count": 2,
   "id": "3bf3d91a",
   "metadata": {},
   "outputs": [
    {
     "data": {
      "text/plain": [
       "0     5\n",
       "1    17\n",
       "2     3\n",
       "3    26\n",
       "4    31\n",
       "dtype: int64"
      ]
     },
     "execution_count": 2,
     "metadata": {},
     "output_type": "execute_result"
    }
   ],
   "source": [
    "s1 = pd.Series([5, 17, 3, 26, 31])\n",
    "s1"
   ]
  },
  {
   "cell_type": "code",
   "execution_count": 3,
   "id": "1fdb8bb1",
   "metadata": {},
   "outputs": [
    {
     "data": {
      "text/plain": [
       "array([ 5, 17,  3, 26, 31])"
      ]
     },
     "execution_count": 3,
     "metadata": {},
     "output_type": "execute_result"
    }
   ],
   "source": [
    "s1.values"
   ]
  },
  {
   "cell_type": "code",
   "execution_count": 4,
   "id": "4f95f8da",
   "metadata": {},
   "outputs": [
    {
     "data": {
      "text/plain": [
       "RangeIndex(start=0, stop=5, step=1)"
      ]
     },
     "execution_count": 4,
     "metadata": {},
     "output_type": "execute_result"
    }
   ],
   "source": [
    "s1.index"
   ]
  },
  {
   "cell_type": "code",
   "execution_count": 5,
   "id": "3f80c715",
   "metadata": {},
   "outputs": [
    {
     "data": {
      "text/plain": [
       "3"
      ]
     },
     "execution_count": 5,
     "metadata": {},
     "output_type": "execute_result"
    }
   ],
   "source": [
    "s1[2]"
   ]
  },
  {
   "cell_type": "code",
   "execution_count": 6,
   "id": "e6ff10fe",
   "metadata": {},
   "outputs": [
    {
     "data": {
      "text/plain": [
       "1    17\n",
       "2     3\n",
       "dtype: int64"
      ]
     },
     "execution_count": 6,
     "metadata": {},
     "output_type": "execute_result"
    }
   ],
   "source": [
    "s1[1:3]"
   ]
  },
  {
   "cell_type": "code",
   "execution_count": 7,
   "id": "bbec0c60",
   "metadata": {},
   "outputs": [],
   "source": [
    "s1 = pd.Series([5, 17, 3, 26, 31], \n",
    "               index=[\"a\", \"d\", \"b\", \"c\", \"e\"])"
   ]
  },
  {
   "cell_type": "code",
   "execution_count": 8,
   "id": "5aacad3a",
   "metadata": {},
   "outputs": [
    {
     "data": {
      "text/plain": [
       "a     5\n",
       "d    17\n",
       "b     3\n",
       "c    26\n",
       "e    31\n",
       "dtype: int64"
      ]
     },
     "execution_count": 8,
     "metadata": {},
     "output_type": "execute_result"
    }
   ],
   "source": [
    "s1"
   ]
  },
  {
   "cell_type": "code",
   "execution_count": 9,
   "id": "6f86daad",
   "metadata": {},
   "outputs": [
    {
     "data": {
      "text/plain": [
       "3"
      ]
     },
     "execution_count": 9,
     "metadata": {},
     "output_type": "execute_result"
    }
   ],
   "source": [
    "s1[\"b\"]"
   ]
  },
  {
   "cell_type": "code",
   "execution_count": 10,
   "id": "fa0c6266",
   "metadata": {},
   "outputs": [
    {
     "data": {
      "text/plain": [
       "3"
      ]
     },
     "execution_count": 10,
     "metadata": {},
     "output_type": "execute_result"
    }
   ],
   "source": [
    "s1[2]"
   ]
  },
  {
   "cell_type": "code",
   "execution_count": 11,
   "id": "f342a1e6",
   "metadata": {},
   "outputs": [
    {
     "data": {
      "text/plain": [
       "d    17\n",
       "b     3\n",
       "c    26\n",
       "dtype: int64"
      ]
     },
     "execution_count": 11,
     "metadata": {},
     "output_type": "execute_result"
    }
   ],
   "source": [
    "s1[\"d\":\"c\"]"
   ]
  },
  {
   "cell_type": "code",
   "execution_count": 12,
   "id": "ead59524",
   "metadata": {},
   "outputs": [
    {
     "data": {
      "text/plain": [
       "d    17\n",
       "b     3\n",
       "dtype: int64"
      ]
     },
     "execution_count": 12,
     "metadata": {},
     "output_type": "execute_result"
    }
   ],
   "source": [
    "s1[1:3]"
   ]
  },
  {
   "cell_type": "code",
   "execution_count": 13,
   "id": "de3f458f",
   "metadata": {},
   "outputs": [
    {
     "data": {
      "text/plain": [
       "a     5\n",
       "e    31\n",
       "c    26\n",
       "dtype: int64"
      ]
     },
     "execution_count": 13,
     "metadata": {},
     "output_type": "execute_result"
    }
   ],
   "source": [
    "s1[[\"a\", \"e\", \"c\"]]"
   ]
  },
  {
   "cell_type": "code",
   "execution_count": 14,
   "id": "f43cd45f",
   "metadata": {},
   "outputs": [
    {
     "data": {
      "text/plain": [
       "a     5\n",
       "e    31\n",
       "c    26\n",
       "dtype: int64"
      ]
     },
     "execution_count": 14,
     "metadata": {},
     "output_type": "execute_result"
    }
   ],
   "source": [
    "s1[[0, 4, 3]]"
   ]
  },
  {
   "cell_type": "code",
   "execution_count": 15,
   "id": "6d6c33e5",
   "metadata": {},
   "outputs": [],
   "source": [
    "s2 = pd.Series([5, 17, 3, 26, 31], \n",
    "               index=[1, 3, 5, 7, 9])"
   ]
  },
  {
   "cell_type": "code",
   "execution_count": 16,
   "id": "8662c0f3",
   "metadata": {},
   "outputs": [
    {
     "data": {
      "text/plain": [
       "17"
      ]
     },
     "execution_count": 16,
     "metadata": {},
     "output_type": "execute_result"
    }
   ],
   "source": [
    "s2[3]"
   ]
  },
  {
   "cell_type": "code",
   "execution_count": 17,
   "id": "216fcf8f",
   "metadata": {
    "scrolled": true
   },
   "outputs": [
    {
     "data": {
      "text/plain": [
       "5     3\n",
       "7    26\n",
       "dtype: int64"
      ]
     },
     "execution_count": 17,
     "metadata": {},
     "output_type": "execute_result"
    }
   ],
   "source": [
    "s2[2:4]"
   ]
  },
  {
   "cell_type": "code",
   "execution_count": 18,
   "id": "f9f21de3",
   "metadata": {},
   "outputs": [
    {
     "data": {
      "text/plain": [
       "17"
      ]
     },
     "execution_count": 18,
     "metadata": {},
     "output_type": "execute_result"
    }
   ],
   "source": [
    "s2.loc[3]"
   ]
  },
  {
   "cell_type": "code",
   "execution_count": 19,
   "id": "e4e456e1",
   "metadata": {},
   "outputs": [
    {
     "data": {
      "text/plain": [
       "1     5\n",
       "3    17\n",
       "dtype: int64"
      ]
     },
     "execution_count": 19,
     "metadata": {},
     "output_type": "execute_result"
    }
   ],
   "source": [
    "s2.loc[1:3]"
   ]
  },
  {
   "cell_type": "code",
   "execution_count": 20,
   "id": "c89636c4",
   "metadata": {},
   "outputs": [
    {
     "data": {
      "text/plain": [
       "26"
      ]
     },
     "execution_count": 20,
     "metadata": {},
     "output_type": "execute_result"
    }
   ],
   "source": [
    "s2.iloc[3]"
   ]
  },
  {
   "cell_type": "code",
   "execution_count": 21,
   "id": "7a95fba1",
   "metadata": {},
   "outputs": [
    {
     "data": {
      "text/plain": [
       "3    17\n",
       "5     3\n",
       "dtype: int64"
      ]
     },
     "execution_count": 21,
     "metadata": {},
     "output_type": "execute_result"
    }
   ],
   "source": [
    "s2.iloc[1:3]"
   ]
  },
  {
   "cell_type": "code",
   "execution_count": 22,
   "id": "cf221c0e",
   "metadata": {},
   "outputs": [
    {
     "data": {
      "text/plain": [
       "青菜     4.1\n",
       "白萝卜    2.2\n",
       "西红柿    5.3\n",
       "土豆     3.7\n",
       "黄瓜     6.8\n",
       "dtype: float64"
      ]
     },
     "execution_count": 22,
     "metadata": {},
     "output_type": "execute_result"
    }
   ],
   "source": [
    "s3 = pd.Series([4.1, 2.2, 5.3, 3.7, 6.8], \n",
    "               index=[\"青菜\", \"白萝卜\", \"西红柿\", \n",
    "                      \"土豆\", \"黄瓜\"])\n",
    "s3"
   ]
  },
  {
   "cell_type": "code",
   "execution_count": 23,
   "id": "73e45723",
   "metadata": {},
   "outputs": [
    {
     "data": {
      "text/plain": [
       "青菜     4.1\n",
       "白萝卜    2.2\n",
       "西红柿    5.3\n",
       "土豆     3.7\n",
       "黄瓜     6.8\n",
       "dtype: float64"
      ]
     },
     "execution_count": 23,
     "metadata": {},
     "output_type": "execute_result"
    }
   ],
   "source": [
    "s3 = pd.Series({\"青菜\": 4.1, \"白萝卜\": 2.2, \"西红柿\": 5.3, \n",
    "                \"土豆\": 3.7, \"黄瓜\": 6.8})\n",
    "s3"
   ]
  },
  {
   "cell_type": "code",
   "execution_count": 24,
   "id": "2c28bc25",
   "metadata": {},
   "outputs": [
    {
     "data": {
      "text/plain": [
       "True"
      ]
     },
     "execution_count": 24,
     "metadata": {},
     "output_type": "execute_result"
    }
   ],
   "source": [
    "\"青菜\" in s3"
   ]
  },
  {
   "cell_type": "code",
   "execution_count": 25,
   "id": "25a6ec59",
   "metadata": {},
   "outputs": [],
   "source": [
    "s3[\"青菜\"] = 4.5"
   ]
  },
  {
   "cell_type": "code",
   "execution_count": 26,
   "id": "8ff79e05",
   "metadata": {},
   "outputs": [],
   "source": [
    "s3.loc[\"青菜\"] = 4.5"
   ]
  },
  {
   "cell_type": "code",
   "execution_count": 27,
   "id": "00cc1322",
   "metadata": {},
   "outputs": [],
   "source": [
    "s3.iloc[0] = 4.5"
   ]
  },
  {
   "cell_type": "code",
   "execution_count": 28,
   "id": "1a577f64",
   "metadata": {},
   "outputs": [
    {
     "data": {
      "text/plain": [
       "西红柿    5.3\n",
       "黄瓜     6.8\n",
       "dtype: float64"
      ]
     },
     "execution_count": 28,
     "metadata": {},
     "output_type": "execute_result"
    }
   ],
   "source": [
    "s3[s3 > 5]"
   ]
  },
  {
   "cell_type": "code",
   "execution_count": 29,
   "id": "6ac10ce6",
   "metadata": {},
   "outputs": [
    {
     "data": {
      "text/plain": [
       "白萝卜    2.2\n",
       "西红柿    5.3\n",
       "黄瓜     6.8\n",
       "dtype: float64"
      ]
     },
     "execution_count": 29,
     "metadata": {},
     "output_type": "execute_result"
    }
   ],
   "source": [
    "s3[(s3 > 5) | (s3 < 3)]"
   ]
  },
  {
   "cell_type": "code",
   "execution_count": null,
   "id": "37883160",
   "metadata": {},
   "outputs": [],
   "source": []
  }
 ],
 "metadata": {
  "kernelspec": {
   "display_name": "Python 3",
   "language": "python",
   "name": "python3"
  },
  "language_info": {
   "codemirror_mode": {
    "name": "ipython",
    "version": 3
   },
   "file_extension": ".py",
   "mimetype": "text/x-python",
   "name": "python",
   "nbconvert_exporter": "python",
   "pygments_lexer": "ipython3",
   "version": "3.8.1"
  }
 },
 "nbformat": 4,
 "nbformat_minor": 5
}
