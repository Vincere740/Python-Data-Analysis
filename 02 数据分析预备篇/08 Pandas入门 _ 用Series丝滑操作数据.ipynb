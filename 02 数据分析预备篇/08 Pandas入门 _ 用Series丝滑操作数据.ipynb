{
 "cells": [
  {
   "cell_type": "code",
   "execution_count": 1,
   "id": "5d7f95bb",
   "metadata": {},
   "outputs": [],
   "source": [
    "import pandas as pd"
   ]
  },
  {
   "cell_type": "code",
   "execution_count": 2,
   "id": "f9896d78",
   "metadata": {},
   "outputs": [],
   "source": [
    "s1 = pd.Series([1, 4, 2, 3, 5], index=[1, 3, 5, 7, 9])\n",
    "s2 = pd.Series([8, 1, 7, 3, 9], index=[1, 2, 3, 5, 10])"
   ]
  },
  {
   "cell_type": "code",
   "execution_count": 3,
   "id": "b34a8478",
   "metadata": {},
   "outputs": [
    {
     "data": {
      "text/plain": [
       "1      9.0\n",
       "2      NaN\n",
       "3     11.0\n",
       "5      5.0\n",
       "7      NaN\n",
       "9      NaN\n",
       "10     NaN\n",
       "dtype: float64"
      ]
     },
     "execution_count": 3,
     "metadata": {},
     "output_type": "execute_result"
    }
   ],
   "source": [
    "s1 + s2"
   ]
  },
  {
   "cell_type": "code",
   "execution_count": 4,
   "id": "3bf0b2f0",
   "metadata": {},
   "outputs": [
    {
     "data": {
      "text/plain": [
       "1      9.0\n",
       "2      1.0\n",
       "3     11.0\n",
       "5      5.0\n",
       "7      3.0\n",
       "9      5.0\n",
       "10     9.0\n",
       "dtype: float64"
      ]
     },
     "execution_count": 4,
     "metadata": {},
     "output_type": "execute_result"
    }
   ],
   "source": [
    "s1.add(s2, fill_value=0)"
   ]
  },
  {
   "cell_type": "code",
   "execution_count": 5,
   "id": "0655b620",
   "metadata": {},
   "outputs": [
    {
     "data": {
      "text/plain": [
       "1    -7.0\n",
       "2    -1.0\n",
       "3    -3.0\n",
       "5    -1.0\n",
       "7     3.0\n",
       "9     5.0\n",
       "10   -9.0\n",
       "dtype: float64"
      ]
     },
     "execution_count": 5,
     "metadata": {},
     "output_type": "execute_result"
    }
   ],
   "source": [
    "s1.sub(s2, fill_value=0)"
   ]
  },
  {
   "cell_type": "code",
   "execution_count": 6,
   "id": "be77440a",
   "metadata": {},
   "outputs": [
    {
     "data": {
      "text/plain": [
       "1      8.0\n",
       "2      1.0\n",
       "3     28.0\n",
       "5      6.0\n",
       "7      3.0\n",
       "9      5.0\n",
       "10     9.0\n",
       "dtype: float64"
      ]
     },
     "execution_count": 6,
     "metadata": {},
     "output_type": "execute_result"
    }
   ],
   "source": [
    "s1.mul(s2, fill_value=1)"
   ]
  },
  {
   "cell_type": "code",
   "execution_count": 7,
   "id": "b7c097f1",
   "metadata": {},
   "outputs": [
    {
     "data": {
      "text/plain": [
       "1     0.125000\n",
       "2     1.000000\n",
       "3     0.571429\n",
       "5     0.666667\n",
       "7     3.000000\n",
       "9     5.000000\n",
       "10    0.111111\n",
       "dtype: float64"
      ]
     },
     "execution_count": 7,
     "metadata": {},
     "output_type": "execute_result"
    }
   ],
   "source": [
    "s1.div(s2, fill_value=1)"
   ]
  },
  {
   "cell_type": "code",
   "execution_count": 8,
   "id": "47cfbc85",
   "metadata": {},
   "outputs": [
    {
     "name": "stdout",
     "output_type": "stream",
     "text": [
      "5\n",
      "1\n",
      "15\n",
      "3.0\n"
     ]
    }
   ],
   "source": [
    "print(s1.max())\n",
    "print(s1.min())\n",
    "print(s1.sum())\n",
    "print(s1.mean())"
   ]
  },
  {
   "cell_type": "code",
   "execution_count": 9,
   "id": "67ec35dc",
   "metadata": {},
   "outputs": [
    {
     "data": {
      "text/plain": [
       "count    5.000000\n",
       "mean     3.000000\n",
       "std      1.581139\n",
       "min      1.000000\n",
       "25%      2.000000\n",
       "50%      3.000000\n",
       "75%      4.000000\n",
       "max      5.000000\n",
       "dtype: float64"
      ]
     },
     "execution_count": 9,
     "metadata": {},
     "output_type": "execute_result"
    }
   ],
   "source": [
    "s1.describe()"
   ]
  },
  {
   "cell_type": "code",
   "execution_count": 10,
   "id": "b26fc3ea",
   "metadata": {},
   "outputs": [
    {
     "data": {
      "text/plain": [
       "小明    92\n",
       "小红    67\n",
       "小杰    70\n",
       "小丽    88\n",
       "小华    76\n",
       "dtype: int64"
      ]
     },
     "execution_count": 10,
     "metadata": {},
     "output_type": "execute_result"
    }
   ],
   "source": [
    "scores = pd.Series([92, 67, 70, 88, 76], index=[\"小明\", \"小红\", \"小杰\", \"小丽\", \"小华\"])\n",
    "scores"
   ]
  },
  {
   "cell_type": "code",
   "execution_count": 11,
   "id": "075fc464",
   "metadata": {},
   "outputs": [
    {
     "data": {
      "text/plain": [
       "小明    A\n",
       "小红    D\n",
       "小杰    C\n",
       "小丽    B\n",
       "小华    C\n",
       "dtype: object"
      ]
     },
     "execution_count": 11,
     "metadata": {},
     "output_type": "execute_result"
    }
   ],
   "source": [
    "def get_grade_from_score(score):\n",
    "    if score >= 90:\n",
    "        return \"A\"\n",
    "    elif score >= 80:\n",
    "        return \"B\"\n",
    "    elif score >= 70:\n",
    "        return \"C\"\n",
    "    else:\n",
    "        return \"D\"\n",
    "\n",
    "grades = scores.apply(get_grade_from_score)\n",
    "grades"
   ]
  },
  {
   "cell_type": "code",
   "execution_count": 12,
   "id": "32b3a8f7",
   "metadata": {
    "scrolled": true
   },
   "outputs": [
    {
     "data": {
      "text/plain": [
       "小明    8464\n",
       "小红    4489\n",
       "小杰    4900\n",
       "小丽    7744\n",
       "小华    5776\n",
       "dtype: int64"
      ]
     },
     "execution_count": 12,
     "metadata": {},
     "output_type": "execute_result"
    }
   ],
   "source": [
    "squared_scores = scores.apply(lambda x: x*x)\n",
    "squared_scores"
   ]
  },
  {
   "cell_type": "code",
   "execution_count": null,
   "id": "cc28d659",
   "metadata": {},
   "outputs": [],
   "source": []
  }
 ],
 "metadata": {
  "kernelspec": {
   "display_name": "Python 3",
   "language": "python",
   "name": "python3"
  },
  "language_info": {
   "codemirror_mode": {
    "name": "ipython",
    "version": 3
   },
   "file_extension": ".py",
   "mimetype": "text/x-python",
   "name": "python",
   "nbconvert_exporter": "python",
   "pygments_lexer": "ipython3",
   "version": "3.10.0"
  }
 },
 "nbformat": 4,
 "nbformat_minor": 5
}
